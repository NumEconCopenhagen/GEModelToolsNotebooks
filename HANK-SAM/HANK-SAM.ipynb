{
 "cells": [
  {
   "cell_type": "markdown",
   "metadata": {},
   "source": [
    "# HANK-SAM"
   ]
  },
  {
   "cell_type": "markdown",
   "metadata": {},
   "source": [
    "**Table of contents**<a id='toc0_'></a>    \n",
    "- 1. [Steady state](#toc1_)    \n",
    "  - 1.1. [Policy functions](#toc1_1_)    \n",
    "  - 1.2. [Distribution](#toc1_2_)    \n",
    "  - 1.3. [Spending in unemployment](#toc1_3_)    \n",
    "- 2. [Effect of government spending](#toc2_)    \n",
    "  - 2.1. [Tests](#toc2_1_)    \n",
    "  - 2.2. [Jacobians](#toc2_2_)    \n",
    "  - 2.3. [Response](#toc2_3_)    \n",
    "\n",
    "<!-- vscode-jupyter-toc-config\n",
    "\tnumbering=true\n",
    "\tanchor=true\n",
    "\tflat=false\n",
    "\tminLevel=2\n",
    "\tmaxLevel=6\n",
    "\t/vscode-jupyter-toc-config -->\n",
    "<!-- THIS CELL WILL BE REPLACED ON TOC UPDATE. DO NOT WRITE YOUR TEXT IN THIS CELL -->"
   ]
  },
  {
   "cell_type": "markdown",
   "id": "988e25d3",
   "metadata": {},
   "source": [
    "This notebook shows how to **solve a Heterogenous Agent New Keynessian (HANK) model with a search-and-match (SAM) labor market** using the ``GEModelTools`` package."
   ]
  },
  {
   "cell_type": "code",
   "execution_count": 1,
   "id": "70a674ca",
   "metadata": {},
   "outputs": [
    {
     "ename": "ModuleNotFoundError",
     "evalue": "No module named 'GEModelTools'",
     "output_type": "error",
     "traceback": [
      "\u001b[1;31m---------------------------------------------------------------------------\u001b[0m",
      "\u001b[1;31mModuleNotFoundError\u001b[0m                       Traceback (most recent call last)",
      "Cell \u001b[1;32mIn[1], line 13\u001b[0m\n\u001b[0;32m     10\u001b[0m plt\u001b[38;5;241m.\u001b[39mrcParams\u001b[38;5;241m.\u001b[39mupdate({\u001b[38;5;124m\"\u001b[39m\u001b[38;5;124maxes.grid\u001b[39m\u001b[38;5;124m\"\u001b[39m : \u001b[38;5;28;01mTrue\u001b[39;00m, \u001b[38;5;124m\"\u001b[39m\u001b[38;5;124mgrid.color\u001b[39m\u001b[38;5;124m\"\u001b[39m: \u001b[38;5;124m\"\u001b[39m\u001b[38;5;124mblack\u001b[39m\u001b[38;5;124m\"\u001b[39m, \u001b[38;5;124m\"\u001b[39m\u001b[38;5;124mgrid.alpha\u001b[39m\u001b[38;5;124m\"\u001b[39m:\u001b[38;5;124m\"\u001b[39m\u001b[38;5;124m0.25\u001b[39m\u001b[38;5;124m\"\u001b[39m, \u001b[38;5;124m\"\u001b[39m\u001b[38;5;124mgrid.linestyle\u001b[39m\u001b[38;5;124m\"\u001b[39m: \u001b[38;5;124m\"\u001b[39m\u001b[38;5;124m--\u001b[39m\u001b[38;5;124m\"\u001b[39m})\n\u001b[0;32m     11\u001b[0m plt\u001b[38;5;241m.\u001b[39mrcParams\u001b[38;5;241m.\u001b[39mupdate({\u001b[38;5;124m'\u001b[39m\u001b[38;5;124mfont.size\u001b[39m\u001b[38;5;124m'\u001b[39m: \u001b[38;5;241m14\u001b[39m})\n\u001b[1;32m---> 13\u001b[0m \u001b[38;5;28;01mfrom\u001b[39;00m \u001b[38;5;21;01mHANKSAMModel\u001b[39;00m \u001b[38;5;28;01mimport\u001b[39;00m HANKSAMModelClass\n",
      "File \u001b[1;32mc:\\Users\\gmf123\\Dropbox\\Repositories\\GEModelToolsNotebooks\\HANK-SAM\\HANKSAMModel.py:7\u001b[0m\n\u001b[0;32m      4\u001b[0m colors \u001b[38;5;241m=\u001b[39m plt\u001b[38;5;241m.\u001b[39mrcParams[\u001b[38;5;124m'\u001b[39m\u001b[38;5;124maxes.prop_cycle\u001b[39m\u001b[38;5;124m'\u001b[39m]\u001b[38;5;241m.\u001b[39mby_key()[\u001b[38;5;124m'\u001b[39m\u001b[38;5;124mcolor\u001b[39m\u001b[38;5;124m'\u001b[39m]\n\u001b[0;32m      6\u001b[0m \u001b[38;5;28;01mfrom\u001b[39;00m \u001b[38;5;21;01mEconModel\u001b[39;00m \u001b[38;5;28;01mimport\u001b[39;00m EconModelClass\n\u001b[1;32m----> 7\u001b[0m \u001b[38;5;28;01mfrom\u001b[39;00m \u001b[38;5;21;01mGEModelTools\u001b[39;00m \u001b[38;5;28;01mimport\u001b[39;00m GEModelClass\n\u001b[0;32m      9\u001b[0m \u001b[38;5;28;01mimport\u001b[39;00m \u001b[38;5;21;01mhousehold_problem\u001b[39;00m\n\u001b[0;32m     10\u001b[0m \u001b[38;5;28;01mimport\u001b[39;00m \u001b[38;5;21;01msteady_state\u001b[39;00m\n",
      "\u001b[1;31mModuleNotFoundError\u001b[0m: No module named 'GEModelTools'"
     ]
    }
   ],
   "source": [
    "%load_ext autoreload\n",
    "%autoreload 2\n",
    "\n",
    "import pickle\n",
    "import numpy as np\n",
    "import scipy.optimize as optimize\n",
    "\n",
    "import matplotlib.pyplot as plt\n",
    "colors = plt.rcParams['axes.prop_cycle'].by_key()['color']\n",
    "plt.rcParams.update({\"axes.grid\" : True, \"grid.color\": \"black\", \"grid.alpha\":\"0.25\", \"grid.linestyle\": \"--\"})\n",
    "plt.rcParams.update({'font.size': 14})\n",
    "\n",
    "from HANKSAMModel import HANKSAMModelClass"
   ]
  },
  {
   "cell_type": "code",
   "execution_count": null,
   "metadata": {},
   "outputs": [],
   "source": [
    "def create_fig(figsize=(6,6/1.5)):\n",
    "    \n",
    "    fig = plt.figure(figsize=figsize,dpi=100)\n",
    "    ax = fig.add_subplot(1,1,1)\n",
    "\n",
    "    return fig,ax\n",
    "\n",
    "def format_fig(fig,ax,ylabel='',T_max=48,legend=True):\n",
    "\n",
    "    if legend: ax.legend(frameon=True)\n",
    "    ax.set_xlabel('months')\n",
    "    ax.set_ylabel(ylabel)\n",
    "    ax.set_xticks(np.arange(T_max+1)[::12])\n",
    "    ax.set_xlim([0,T_max]);\n",
    "    \n",
    "    fig.tight_layout()"
   ]
  },
  {
   "cell_type": "markdown",
   "metadata": {},
   "source": [
    "## 1. <a id='toc1_'></a>[Steady state](#toc0_)"
   ]
  },
  {
   "cell_type": "code",
   "execution_count": null,
   "id": "visible-permit",
   "metadata": {
    "execution": {
     "iopub.execute_input": "2022-12-06T15:34:34.513732Z",
     "iopub.status.busy": "2022-12-06T15:34:34.513732Z",
     "iopub.status.idle": "2022-12-06T15:34:34.826217Z",
     "shell.execute_reply": "2022-12-06T15:34:34.826217Z"
    }
   },
   "outputs": [],
   "source": [
    "model = HANKSAMModelClass(name='baseline')"
   ]
  },
  {
   "cell_type": "code",
   "execution_count": null,
   "id": "c8c7517d-3106-41b2-ad5d-1592c47f4adb",
   "metadata": {
    "execution": {
     "iopub.execute_input": "2022-12-06T15:34:34.826217Z",
     "iopub.status.busy": "2022-12-06T15:34:34.826217Z",
     "iopub.status.idle": "2022-12-06T15:34:34.959485Z",
     "shell.execute_reply": "2022-12-06T15:34:34.959485Z"
    }
   },
   "outputs": [],
   "source": [
    "par = model.par\n",
    "ss = model.ss\n",
    "path = model.path"
   ]
  },
  {
   "cell_type": "code",
   "execution_count": null,
   "id": "0e40094f",
   "metadata": {},
   "outputs": [],
   "source": [
    "model.find_ss(do_print=True)"
   ]
  },
  {
   "cell_type": "code",
   "execution_count": null,
   "metadata": {},
   "outputs": [],
   "source": [
    "model.test_ss()"
   ]
  },
  {
   "cell_type": "markdown",
   "metadata": {},
   "source": [
    "### 1.1. <a id='toc1_1_'></a>[Policy functions](#toc0_)"
   ]
  },
  {
   "cell_type": "code",
   "execution_count": null,
   "metadata": {},
   "outputs": [],
   "source": [
    "for i_fix in range(par.Nfix):\n",
    "\n",
    "    fig = plt.figure(figsize=(12,4),dpi=100)\n",
    "    a_max = 10\n",
    "\n",
    "    # a. consumption\n",
    "    I = par.a_grid < a_max\n",
    "\n",
    "    ax = fig.add_subplot(1,2,1)\n",
    "    ax.set_title(f'consumption')\n",
    "\n",
    "    for i_z in [0,par.Nz//2,par.Nz-1]:\n",
    "        ax.plot(par.a_grid[I],ss.c[i_fix,i_z,I],label=f'i_z = {i_z}')\n",
    "\n",
    "    ax.legend(frameon=True)\n",
    "    ax.set_xlabel('savings, $a_{t-1}$')\n",
    "    ax.set_ylabel('consumption, $c_t$')\n",
    "\n",
    "    # b. saving\n",
    "    I = par.a_grid < a_max\n",
    "\n",
    "    ax = fig.add_subplot(1,2,2)\n",
    "    ax.set_title(f'saving')\n",
    "\n",
    "    for i_z in [0,par.Nz//2,par.Nz-1]:\n",
    "        ax.plot(par.a_grid[I],ss.a[i_fix,i_z,I],label=f'i_z = {i_z}')\n",
    "\n",
    "    ax.set_xlabel('savings, $a_{t-1}$')\n",
    "    ax.set_ylabel('savings, $a_{t}$')\n",
    "\n",
    "    fig.suptitle(fr'$\\beta^{{12}}$ = {par.beta_grid[i_fix]**12:.3f} [share = {par.beta_shares[i_fix]}]')\n",
    "    fig.tight_layout()"
   ]
  },
  {
   "cell_type": "markdown",
   "metadata": {},
   "source": [
    "### 1.2. <a id='toc1_2_'></a>[Distribution](#toc0_)"
   ]
  },
  {
   "cell_type": "code",
   "execution_count": null,
   "metadata": {},
   "outputs": [],
   "source": [
    "fig = plt.figure(figsize=(6,4),dpi=100)\n",
    "ax = fig.add_subplot(1,1,1)\n",
    "\n",
    "for i_fix in range(par.Nfix):\n",
    "    y = np.insert(np.cumsum(np.sum(ss.D[i_fix],axis=0)),0,0.0)\n",
    "    ax.plot(np.insert(par.a_grid,0,par.a_grid[0]),y/y[-1],\n",
    "            label=f'$\\\\beta^{{12}}$ = {par.beta_grid[i_fix]**12:.3f}')\n",
    "        \n",
    "ax.legend(frameon=True)\n",
    "ax.set_xlabel('assets, $a_{t}$')\n",
    "ax.set_ylabel('CDF')\n",
    "ax.set_xscale('symlog')\n"
   ]
  },
  {
   "cell_type": "markdown",
   "metadata": {},
   "source": [
    "### 1.3. <a id='toc1_3_'></a>[Spending in unemployment](#toc0_)"
   ]
  },
  {
   "cell_type": "code",
   "execution_count": null,
   "metadata": {},
   "outputs": [],
   "source": [
    "fig,ax = create_fig(figsize=(8,6/1.5))  \n",
    "\n",
    "# baseline\n",
    "C_e,C_u,C_u_dur = model.calc_Cs()\n",
    "ax.plot(np.arange(1,par.Nu),C_u_dur[:-1]/C_e,ls='-',lw=2.5,color='black',label='average')\n",
    "\n",
    "for i_fix,ls in zip(range(par.Nfix),[':','--','-.']):\n",
    "    C_e,C_u,C_u_dur = model.calc_Cs(i_fix=i_fix)\n",
    "    ax.plot(np.arange(1,par.Nu),C_u_dur[:-1]/C_e,lw=2,ls=ls,label=f'$\\\\beta^{{12}} = {par.beta_grid[i_fix]**12:.3f}$')\n",
    "\n",
    "# details\n",
    "ax.set_xticks(np.arange(1,par.Nu));\n",
    "ax.set_xlabel('months of unemployment')\n",
    "ax.set_ylabel('relative to employed')\n",
    "ax.legend(frameon=True,ncol=1)\n",
    "\n",
    "fig.tight_layout()"
   ]
  },
  {
   "cell_type": "code",
   "execution_count": null,
   "metadata": {},
   "outputs": [],
   "source": [
    "C_e,C_u,C_u_dur = model.calc_Cs()\n",
    "C_drop_ss = (C_u/C_e-1)*100\n",
    "C_drop_ex = (C_u_dur[6]-C_u_dur[5])/((1-ss.tau)*(par.phi_obar-par.phi_ubar)*ss.w)*100\n",
    "print(f'{C_drop_ss = :.2f}')\n",
    "print(f'{C_drop_ex = :.2f}')"
   ]
  },
  {
   "cell_type": "markdown",
   "metadata": {},
   "source": [
    "## 2. <a id='toc2_'></a>[Effect of government spending](#toc0_)"
   ]
  },
  {
   "cell_type": "markdown",
   "metadata": {},
   "source": [
    "### 2.1. <a id='toc2_1_'></a>[Tests](#toc0_)"
   ]
  },
  {
   "cell_type": "code",
   "execution_count": null,
   "id": "c1e1a318",
   "metadata": {},
   "outputs": [],
   "source": [
    "model.test_path()"
   ]
  },
  {
   "cell_type": "markdown",
   "metadata": {},
   "source": [
    "### 2.2. <a id='toc2_2_'></a>[Jacobians](#toc0_)"
   ]
  },
  {
   "cell_type": "code",
   "execution_count": null,
   "id": "0a272bc6",
   "metadata": {},
   "outputs": [],
   "source": [
    "model.compute_jacs(do_print=False,skip_shocks=True)"
   ]
  },
  {
   "cell_type": "markdown",
   "metadata": {},
   "source": [
    "### 2.3. <a id='toc2_3_'></a>[Response](#toc0_)"
   ]
  },
  {
   "cell_type": "code",
   "execution_count": null,
   "id": "05fe7e03",
   "metadata": {},
   "outputs": [],
   "source": [
    "model.find_transition_path(shocks=['G'],do_print=False,do_end_check=False)"
   ]
  },
  {
   "cell_type": "code",
   "execution_count": null,
   "id": "975cdd6e",
   "metadata": {},
   "outputs": [],
   "source": [
    "paths = ['G','u','delta','lambda_u_s','tau','div','C_hh','clearing_Y','i_ann','r_ann','pi_ann','q']\n",
    "lvl_value = ['u','lambda_u_s','tau','i_ann','r_ann','pi_ann','clearing_Y']\n",
    "model.show_IRFs(paths,lvl_value=lvl_value,T_max=200,ncols=2,do_shocks=False,do_targets=False)"
   ]
  },
  {
   "cell_type": "code",
   "execution_count": null,
   "id": "1d6cce79",
   "metadata": {},
   "outputs": [],
   "source": [
    "T_max = 50\n",
    "\n",
    "fig_C = plt.figure(figsize=(6,4),dpi=100)\n",
    "ax_C = fig_C.add_subplot(1,1,1)\n",
    "ax_C.set_title('consumption, $C_t^{hh}$')\n",
    "               \n",
    "i_color = 0\n",
    "for use_inputs in [[x] for x in ['r','tau','lambda_u_s','div']]:\n",
    "    \n",
    "    # a. compute\n",
    "    print(use_inputs)\n",
    "    path_alt = model.decompose_hh_path(do_print=True,use_inputs=use_inputs)\n",
    "    print('')\n",
    "    \n",
    "    # b. plot\n",
    "    if use_inputs is None:\n",
    "        label = 'no inputs'\n",
    "        ls = '--'\n",
    "        color = 'black'\n",
    "    elif use_inputs == 'all':\n",
    "        label = 'all inputs'\n",
    "        ls = '-'\n",
    "        color = 'black'\n",
    "    else:\n",
    "        label = f'only effect from {use_inputs[0]}'\n",
    "        ls = '-'\n",
    "        color = colors[i_color]\n",
    "        i_color += 1\n",
    "        \n",
    "    ax_C.plot((path_alt.C_hh[:T_max]/ss.C_hh-1)*100,ls=ls,color=color,label=label);\n",
    "\n",
    "for ax in [ax_C]:\n",
    "    ax.set_ylabel('% diff to s.s.')\n",
    "    lgd = ax.legend(frameon=True,ncol=1,bbox_to_anchor=(1.05,1), loc='upper left',)\n",
    "\n",
    "plt.show()"
   ]
  },
  {
   "cell_type": "markdown",
   "id": "deb105de",
   "metadata": {},
   "source": [
    "Equivalent path for wages keeping the income path fixed:"
   ]
  },
  {
   "cell_type": "code",
   "execution_count": null,
   "id": "8ad18ca1",
   "metadata": {},
   "outputs": [],
   "source": [
    "path_lambda_u_s = model.decompose_hh_path(do_print=True,use_inputs=['lambda_u_s'])\n",
    "w = path_lambda_u_s.Y_hh/ss.Y_hh*ss.w\n"
   ]
  },
  {
   "cell_type": "markdown",
   "id": "32b44315",
   "metadata": {},
   "source": [
    "Consumption path:"
   ]
  },
  {
   "cell_type": "code",
   "execution_count": null,
   "id": "8369894f",
   "metadata": {},
   "outputs": [],
   "source": [
    "path_w = model.decompose_hh_path(do_print=True,use_inputs=['w'],custom_paths={'w':w.ravel()})"
   ]
  },
  {
   "cell_type": "code",
   "execution_count": null,
   "id": "e4beddac",
   "metadata": {},
   "outputs": [],
   "source": [
    "fig_C = plt.figure(figsize=(6,4),dpi=100)\n",
    "ax_C = fig_C.add_subplot(1,1,1)\n",
    "ax_C.set_title('consumption, $C_t^{hh}$')\n",
    "               \n",
    "ax_C.plot((path_lambda_u_s.C_hh[:T_max]/ss.C_hh-1)*100,ls=ls,label='lambda_u_s');\n",
    "ax_C.plot((path_w.C_hh[:T_max]/ss.C_hh-1)*100,ls=ls,label='w');\n",
    "\n",
    "for ax in [ax_C]:\n",
    "    ax.set_ylabel('% diff to s.s.')\n",
    "    lgd = ax.legend(frameon=True,ncol=1,bbox_to_anchor=(1.05,1), loc='upper left',)"
   ]
  }
 ],
 "metadata": {
  "kernelspec": {
   "display_name": "base",
   "language": "python",
   "name": "python3"
  },
  "language_info": {
   "codemirror_mode": {
    "name": "ipython",
    "version": 3
   },
   "file_extension": ".py",
   "mimetype": "text/x-python",
   "name": "python",
   "nbconvert_exporter": "python",
   "pygments_lexer": "ipython3",
   "version": "3.12.4"
  },
  "toc-autonumbering": true,
  "vscode": {
   "interpreter": {
    "hash": "47ef90cdf3004d3f859f1fb202523c65c07ba7c22eefd261b181f4744e2d0403"
   }
  }
 },
 "nbformat": 4,
 "nbformat_minor": 5
}
